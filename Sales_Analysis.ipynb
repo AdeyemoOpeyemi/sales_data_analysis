{
 "cells": [
  {
   "cell_type": "markdown",
   "id": "5d6d917f-509f-435b-b274-c479d8801113",
   "metadata": {},
   "source": [
    "## NAME: ADEYEMO OPEYEMI\n",
    "### ID :"
   ]
  },
  {
   "cell_type": "markdown",
   "id": "25c69100-35b9-4dae-8af2-c50ad87a4302",
   "metadata": {},
   "source": [
    "### ASSIGNMENT "
   ]
  },
  {
   "cell_type": "code",
   "execution_count": 2,
   "id": "0c60d848-b65a-496f-bcf6-5a3bf5fede72",
   "metadata": {},
   "outputs": [],
   "source": [
    "import pandas as pd\n",
    "\n"
   ]
  },
  {
   "cell_type": "code",
   "execution_count": 3,
   "id": "8dc89738-5bab-40a9-b837-9d875630ea1b",
   "metadata": {},
   "outputs": [
    {
     "data": {
      "text/html": [
       "<div>\n",
       "<style scoped>\n",
       "    .dataframe tbody tr th:only-of-type {\n",
       "        vertical-align: middle;\n",
       "    }\n",
       "\n",
       "    .dataframe tbody tr th {\n",
       "        vertical-align: top;\n",
       "    }\n",
       "\n",
       "    .dataframe thead th {\n",
       "        text-align: right;\n",
       "    }\n",
       "</style>\n",
       "<table border=\"1\" class=\"dataframe\">\n",
       "  <thead>\n",
       "    <tr style=\"text-align: right;\">\n",
       "      <th></th>\n",
       "      <th>ORDERNUMBER</th>\n",
       "      <th>QUANTITYORDERED</th>\n",
       "      <th>PRICEEACH</th>\n",
       "      <th>ORDERLINENUMBER</th>\n",
       "      <th>SALES</th>\n",
       "      <th>ORDERDATE</th>\n",
       "      <th>STATUS</th>\n",
       "      <th>QTR_ID</th>\n",
       "      <th>MONTH_ID</th>\n",
       "      <th>YEAR_ID</th>\n",
       "      <th>...</th>\n",
       "      <th>ADDRESSLINE1</th>\n",
       "      <th>ADDRESSLINE2</th>\n",
       "      <th>CITY</th>\n",
       "      <th>STATE</th>\n",
       "      <th>POSTALCODE</th>\n",
       "      <th>COUNTRY</th>\n",
       "      <th>TERRITORY</th>\n",
       "      <th>CONTACTLASTNAME</th>\n",
       "      <th>CONTACTFIRSTNAME</th>\n",
       "      <th>DEALSIZE</th>\n",
       "    </tr>\n",
       "  </thead>\n",
       "  <tbody>\n",
       "    <tr>\n",
       "      <th>0</th>\n",
       "      <td>10107</td>\n",
       "      <td>30</td>\n",
       "      <td>95.70</td>\n",
       "      <td>2</td>\n",
       "      <td>2871.00</td>\n",
       "      <td>2/24/2003 0:00</td>\n",
       "      <td>Shipped</td>\n",
       "      <td>1</td>\n",
       "      <td>2</td>\n",
       "      <td>2003</td>\n",
       "      <td>...</td>\n",
       "      <td>897 Long Airport Avenue</td>\n",
       "      <td>NaN</td>\n",
       "      <td>NYC</td>\n",
       "      <td>NY</td>\n",
       "      <td>10022</td>\n",
       "      <td>USA</td>\n",
       "      <td>NaN</td>\n",
       "      <td>Yu</td>\n",
       "      <td>Kwai</td>\n",
       "      <td>Small</td>\n",
       "    </tr>\n",
       "    <tr>\n",
       "      <th>1</th>\n",
       "      <td>10121</td>\n",
       "      <td>34</td>\n",
       "      <td>81.35</td>\n",
       "      <td>5</td>\n",
       "      <td>2765.90</td>\n",
       "      <td>5/7/2003 0:00</td>\n",
       "      <td>Shipped</td>\n",
       "      <td>2</td>\n",
       "      <td>5</td>\n",
       "      <td>2003</td>\n",
       "      <td>...</td>\n",
       "      <td>59 rue de l'Abbaye</td>\n",
       "      <td>NaN</td>\n",
       "      <td>Reims</td>\n",
       "      <td>NaN</td>\n",
       "      <td>51100</td>\n",
       "      <td>France</td>\n",
       "      <td>EMEA</td>\n",
       "      <td>Henriot</td>\n",
       "      <td>Paul</td>\n",
       "      <td>Small</td>\n",
       "    </tr>\n",
       "    <tr>\n",
       "      <th>2</th>\n",
       "      <td>10134</td>\n",
       "      <td>41</td>\n",
       "      <td>94.74</td>\n",
       "      <td>2</td>\n",
       "      <td>3884.34</td>\n",
       "      <td>7/1/2003 0:00</td>\n",
       "      <td>Shipped</td>\n",
       "      <td>3</td>\n",
       "      <td>7</td>\n",
       "      <td>2003</td>\n",
       "      <td>...</td>\n",
       "      <td>27 rue du Colonel Pierre Avia</td>\n",
       "      <td>NaN</td>\n",
       "      <td>Paris</td>\n",
       "      <td>NaN</td>\n",
       "      <td>75508</td>\n",
       "      <td>France</td>\n",
       "      <td>EMEA</td>\n",
       "      <td>Da Cunha</td>\n",
       "      <td>Daniel</td>\n",
       "      <td>Medium</td>\n",
       "    </tr>\n",
       "    <tr>\n",
       "      <th>3</th>\n",
       "      <td>10145</td>\n",
       "      <td>45</td>\n",
       "      <td>83.26</td>\n",
       "      <td>6</td>\n",
       "      <td>3746.70</td>\n",
       "      <td>8/25/2003 0:00</td>\n",
       "      <td>Shipped</td>\n",
       "      <td>3</td>\n",
       "      <td>8</td>\n",
       "      <td>2003</td>\n",
       "      <td>...</td>\n",
       "      <td>78934 Hillside Dr.</td>\n",
       "      <td>NaN</td>\n",
       "      <td>Pasadena</td>\n",
       "      <td>CA</td>\n",
       "      <td>90003</td>\n",
       "      <td>USA</td>\n",
       "      <td>NaN</td>\n",
       "      <td>Young</td>\n",
       "      <td>Julie</td>\n",
       "      <td>Medium</td>\n",
       "    </tr>\n",
       "    <tr>\n",
       "      <th>4</th>\n",
       "      <td>10159</td>\n",
       "      <td>49</td>\n",
       "      <td>100.00</td>\n",
       "      <td>14</td>\n",
       "      <td>5205.27</td>\n",
       "      <td>10/10/2003 0:00</td>\n",
       "      <td>Shipped</td>\n",
       "      <td>4</td>\n",
       "      <td>10</td>\n",
       "      <td>2003</td>\n",
       "      <td>...</td>\n",
       "      <td>7734 Strong St.</td>\n",
       "      <td>NaN</td>\n",
       "      <td>San Francisco</td>\n",
       "      <td>CA</td>\n",
       "      <td>NaN</td>\n",
       "      <td>USA</td>\n",
       "      <td>NaN</td>\n",
       "      <td>Brown</td>\n",
       "      <td>Julie</td>\n",
       "      <td>Medium</td>\n",
       "    </tr>\n",
       "    <tr>\n",
       "      <th>...</th>\n",
       "      <td>...</td>\n",
       "      <td>...</td>\n",
       "      <td>...</td>\n",
       "      <td>...</td>\n",
       "      <td>...</td>\n",
       "      <td>...</td>\n",
       "      <td>...</td>\n",
       "      <td>...</td>\n",
       "      <td>...</td>\n",
       "      <td>...</td>\n",
       "      <td>...</td>\n",
       "      <td>...</td>\n",
       "      <td>...</td>\n",
       "      <td>...</td>\n",
       "      <td>...</td>\n",
       "      <td>...</td>\n",
       "      <td>...</td>\n",
       "      <td>...</td>\n",
       "      <td>...</td>\n",
       "      <td>...</td>\n",
       "      <td>...</td>\n",
       "    </tr>\n",
       "    <tr>\n",
       "      <th>2818</th>\n",
       "      <td>10350</td>\n",
       "      <td>20</td>\n",
       "      <td>100.00</td>\n",
       "      <td>15</td>\n",
       "      <td>2244.40</td>\n",
       "      <td>12/2/2004 0:00</td>\n",
       "      <td>Shipped</td>\n",
       "      <td>4</td>\n",
       "      <td>12</td>\n",
       "      <td>2004</td>\n",
       "      <td>...</td>\n",
       "      <td>C/ Moralzarzal, 86</td>\n",
       "      <td>NaN</td>\n",
       "      <td>Madrid</td>\n",
       "      <td>NaN</td>\n",
       "      <td>28034</td>\n",
       "      <td>Spain</td>\n",
       "      <td>EMEA</td>\n",
       "      <td>Freyre</td>\n",
       "      <td>Diego</td>\n",
       "      <td>Small</td>\n",
       "    </tr>\n",
       "    <tr>\n",
       "      <th>2819</th>\n",
       "      <td>10373</td>\n",
       "      <td>29</td>\n",
       "      <td>100.00</td>\n",
       "      <td>1</td>\n",
       "      <td>3978.51</td>\n",
       "      <td>1/31/2005 0:00</td>\n",
       "      <td>Shipped</td>\n",
       "      <td>1</td>\n",
       "      <td>1</td>\n",
       "      <td>2005</td>\n",
       "      <td>...</td>\n",
       "      <td>Torikatu 38</td>\n",
       "      <td>NaN</td>\n",
       "      <td>Oulu</td>\n",
       "      <td>NaN</td>\n",
       "      <td>90110</td>\n",
       "      <td>Finland</td>\n",
       "      <td>EMEA</td>\n",
       "      <td>Koskitalo</td>\n",
       "      <td>Pirkko</td>\n",
       "      <td>Medium</td>\n",
       "    </tr>\n",
       "    <tr>\n",
       "      <th>2820</th>\n",
       "      <td>10386</td>\n",
       "      <td>43</td>\n",
       "      <td>100.00</td>\n",
       "      <td>4</td>\n",
       "      <td>5417.57</td>\n",
       "      <td>3/1/2005 0:00</td>\n",
       "      <td>Resolved</td>\n",
       "      <td>1</td>\n",
       "      <td>3</td>\n",
       "      <td>2005</td>\n",
       "      <td>...</td>\n",
       "      <td>C/ Moralzarzal, 86</td>\n",
       "      <td>NaN</td>\n",
       "      <td>Madrid</td>\n",
       "      <td>NaN</td>\n",
       "      <td>28034</td>\n",
       "      <td>Spain</td>\n",
       "      <td>EMEA</td>\n",
       "      <td>Freyre</td>\n",
       "      <td>Diego</td>\n",
       "      <td>Medium</td>\n",
       "    </tr>\n",
       "    <tr>\n",
       "      <th>2821</th>\n",
       "      <td>10397</td>\n",
       "      <td>34</td>\n",
       "      <td>62.24</td>\n",
       "      <td>1</td>\n",
       "      <td>2116.16</td>\n",
       "      <td>3/28/2005 0:00</td>\n",
       "      <td>Shipped</td>\n",
       "      <td>1</td>\n",
       "      <td>3</td>\n",
       "      <td>2005</td>\n",
       "      <td>...</td>\n",
       "      <td>1 rue Alsace-Lorraine</td>\n",
       "      <td>NaN</td>\n",
       "      <td>Toulouse</td>\n",
       "      <td>NaN</td>\n",
       "      <td>31000</td>\n",
       "      <td>France</td>\n",
       "      <td>EMEA</td>\n",
       "      <td>Roulet</td>\n",
       "      <td>Annette</td>\n",
       "      <td>Small</td>\n",
       "    </tr>\n",
       "    <tr>\n",
       "      <th>2822</th>\n",
       "      <td>10414</td>\n",
       "      <td>47</td>\n",
       "      <td>65.52</td>\n",
       "      <td>9</td>\n",
       "      <td>3079.44</td>\n",
       "      <td>5/6/2005 0:00</td>\n",
       "      <td>On Hold</td>\n",
       "      <td>2</td>\n",
       "      <td>5</td>\n",
       "      <td>2005</td>\n",
       "      <td>...</td>\n",
       "      <td>8616 Spinnaker Dr.</td>\n",
       "      <td>NaN</td>\n",
       "      <td>Boston</td>\n",
       "      <td>MA</td>\n",
       "      <td>51003</td>\n",
       "      <td>USA</td>\n",
       "      <td>NaN</td>\n",
       "      <td>Yoshido</td>\n",
       "      <td>Juri</td>\n",
       "      <td>Medium</td>\n",
       "    </tr>\n",
       "  </tbody>\n",
       "</table>\n",
       "<p>2823 rows × 25 columns</p>\n",
       "</div>"
      ],
      "text/plain": [
       "      ORDERNUMBER  QUANTITYORDERED  PRICEEACH  ORDERLINENUMBER    SALES  \\\n",
       "0           10107               30      95.70                2  2871.00   \n",
       "1           10121               34      81.35                5  2765.90   \n",
       "2           10134               41      94.74                2  3884.34   \n",
       "3           10145               45      83.26                6  3746.70   \n",
       "4           10159               49     100.00               14  5205.27   \n",
       "...           ...              ...        ...              ...      ...   \n",
       "2818        10350               20     100.00               15  2244.40   \n",
       "2819        10373               29     100.00                1  3978.51   \n",
       "2820        10386               43     100.00                4  5417.57   \n",
       "2821        10397               34      62.24                1  2116.16   \n",
       "2822        10414               47      65.52                9  3079.44   \n",
       "\n",
       "            ORDERDATE    STATUS  QTR_ID  MONTH_ID  YEAR_ID  ...  \\\n",
       "0      2/24/2003 0:00   Shipped       1         2     2003  ...   \n",
       "1       5/7/2003 0:00   Shipped       2         5     2003  ...   \n",
       "2       7/1/2003 0:00   Shipped       3         7     2003  ...   \n",
       "3      8/25/2003 0:00   Shipped       3         8     2003  ...   \n",
       "4     10/10/2003 0:00   Shipped       4        10     2003  ...   \n",
       "...               ...       ...     ...       ...      ...  ...   \n",
       "2818   12/2/2004 0:00   Shipped       4        12     2004  ...   \n",
       "2819   1/31/2005 0:00   Shipped       1         1     2005  ...   \n",
       "2820    3/1/2005 0:00  Resolved       1         3     2005  ...   \n",
       "2821   3/28/2005 0:00   Shipped       1         3     2005  ...   \n",
       "2822    5/6/2005 0:00   On Hold       2         5     2005  ...   \n",
       "\n",
       "                       ADDRESSLINE1  ADDRESSLINE2           CITY STATE  \\\n",
       "0           897 Long Airport Avenue           NaN            NYC    NY   \n",
       "1                59 rue de l'Abbaye           NaN          Reims   NaN   \n",
       "2     27 rue du Colonel Pierre Avia           NaN          Paris   NaN   \n",
       "3                78934 Hillside Dr.           NaN       Pasadena    CA   \n",
       "4                   7734 Strong St.           NaN  San Francisco    CA   \n",
       "...                             ...           ...            ...   ...   \n",
       "2818             C/ Moralzarzal, 86           NaN         Madrid   NaN   \n",
       "2819                    Torikatu 38           NaN           Oulu   NaN   \n",
       "2820             C/ Moralzarzal, 86           NaN         Madrid   NaN   \n",
       "2821          1 rue Alsace-Lorraine           NaN       Toulouse   NaN   \n",
       "2822             8616 Spinnaker Dr.           NaN         Boston    MA   \n",
       "\n",
       "     POSTALCODE  COUNTRY TERRITORY CONTACTLASTNAME CONTACTFIRSTNAME DEALSIZE  \n",
       "0         10022      USA       NaN              Yu             Kwai    Small  \n",
       "1         51100   France      EMEA         Henriot             Paul    Small  \n",
       "2         75508   France      EMEA        Da Cunha           Daniel   Medium  \n",
       "3         90003      USA       NaN           Young            Julie   Medium  \n",
       "4           NaN      USA       NaN           Brown            Julie   Medium  \n",
       "...         ...      ...       ...             ...              ...      ...  \n",
       "2818      28034    Spain      EMEA          Freyre            Diego    Small  \n",
       "2819      90110  Finland      EMEA       Koskitalo           Pirkko   Medium  \n",
       "2820      28034    Spain      EMEA          Freyre            Diego   Medium  \n",
       "2821      31000   France      EMEA          Roulet          Annette    Small  \n",
       "2822      51003      USA       NaN         Yoshido             Juri   Medium  \n",
       "\n",
       "[2823 rows x 25 columns]"
      ]
     },
     "execution_count": 3,
     "metadata": {},
     "output_type": "execute_result"
    }
   ],
   "source": [
    "data=pd.read_csv(\"sales_data_sample.csv\",encoding=\"ISO-8859-1\")\n",
    "data"
   ]
  },
  {
   "cell_type": "code",
   "execution_count": 4,
   "id": "5e4455ba-aa6c-4af9-8818-628b1fefb1f2",
   "metadata": {},
   "outputs": [
    {
     "data": {
      "text/html": [
       "<div>\n",
       "<style scoped>\n",
       "    .dataframe tbody tr th:only-of-type {\n",
       "        vertical-align: middle;\n",
       "    }\n",
       "\n",
       "    .dataframe tbody tr th {\n",
       "        vertical-align: top;\n",
       "    }\n",
       "\n",
       "    .dataframe thead th {\n",
       "        text-align: right;\n",
       "    }\n",
       "</style>\n",
       "<table border=\"1\" class=\"dataframe\">\n",
       "  <thead>\n",
       "    <tr style=\"text-align: right;\">\n",
       "      <th></th>\n",
       "      <th>ORDERNUMBER</th>\n",
       "      <th>QUANTITYORDERED</th>\n",
       "      <th>PRICEEACH</th>\n",
       "      <th>ORDERLINENUMBER</th>\n",
       "      <th>SALES</th>\n",
       "      <th>ORDERDATE</th>\n",
       "      <th>STATUS</th>\n",
       "      <th>QTR_ID</th>\n",
       "      <th>MONTH_ID</th>\n",
       "      <th>YEAR_ID</th>\n",
       "      <th>...</th>\n",
       "      <th>ADDRESSLINE1</th>\n",
       "      <th>ADDRESSLINE2</th>\n",
       "      <th>CITY</th>\n",
       "      <th>STATE</th>\n",
       "      <th>POSTALCODE</th>\n",
       "      <th>COUNTRY</th>\n",
       "      <th>TERRITORY</th>\n",
       "      <th>CONTACTLASTNAME</th>\n",
       "      <th>CONTACTFIRSTNAME</th>\n",
       "      <th>DEALSIZE</th>\n",
       "    </tr>\n",
       "  </thead>\n",
       "  <tbody>\n",
       "    <tr>\n",
       "      <th>0</th>\n",
       "      <td>10107</td>\n",
       "      <td>30</td>\n",
       "      <td>95.70</td>\n",
       "      <td>2</td>\n",
       "      <td>2871.00</td>\n",
       "      <td>2/24/2003 0:00</td>\n",
       "      <td>Shipped</td>\n",
       "      <td>1</td>\n",
       "      <td>2</td>\n",
       "      <td>2003</td>\n",
       "      <td>...</td>\n",
       "      <td>897 Long Airport Avenue</td>\n",
       "      <td>NaN</td>\n",
       "      <td>NYC</td>\n",
       "      <td>NY</td>\n",
       "      <td>10022</td>\n",
       "      <td>USA</td>\n",
       "      <td>NaN</td>\n",
       "      <td>Yu</td>\n",
       "      <td>Kwai</td>\n",
       "      <td>Small</td>\n",
       "    </tr>\n",
       "    <tr>\n",
       "      <th>1</th>\n",
       "      <td>10121</td>\n",
       "      <td>34</td>\n",
       "      <td>81.35</td>\n",
       "      <td>5</td>\n",
       "      <td>2765.90</td>\n",
       "      <td>5/7/2003 0:00</td>\n",
       "      <td>Shipped</td>\n",
       "      <td>2</td>\n",
       "      <td>5</td>\n",
       "      <td>2003</td>\n",
       "      <td>...</td>\n",
       "      <td>59 rue de l'Abbaye</td>\n",
       "      <td>NaN</td>\n",
       "      <td>Reims</td>\n",
       "      <td>NaN</td>\n",
       "      <td>51100</td>\n",
       "      <td>France</td>\n",
       "      <td>EMEA</td>\n",
       "      <td>Henriot</td>\n",
       "      <td>Paul</td>\n",
       "      <td>Small</td>\n",
       "    </tr>\n",
       "    <tr>\n",
       "      <th>2</th>\n",
       "      <td>10134</td>\n",
       "      <td>41</td>\n",
       "      <td>94.74</td>\n",
       "      <td>2</td>\n",
       "      <td>3884.34</td>\n",
       "      <td>7/1/2003 0:00</td>\n",
       "      <td>Shipped</td>\n",
       "      <td>3</td>\n",
       "      <td>7</td>\n",
       "      <td>2003</td>\n",
       "      <td>...</td>\n",
       "      <td>27 rue du Colonel Pierre Avia</td>\n",
       "      <td>NaN</td>\n",
       "      <td>Paris</td>\n",
       "      <td>NaN</td>\n",
       "      <td>75508</td>\n",
       "      <td>France</td>\n",
       "      <td>EMEA</td>\n",
       "      <td>Da Cunha</td>\n",
       "      <td>Daniel</td>\n",
       "      <td>Medium</td>\n",
       "    </tr>\n",
       "    <tr>\n",
       "      <th>3</th>\n",
       "      <td>10145</td>\n",
       "      <td>45</td>\n",
       "      <td>83.26</td>\n",
       "      <td>6</td>\n",
       "      <td>3746.70</td>\n",
       "      <td>8/25/2003 0:00</td>\n",
       "      <td>Shipped</td>\n",
       "      <td>3</td>\n",
       "      <td>8</td>\n",
       "      <td>2003</td>\n",
       "      <td>...</td>\n",
       "      <td>78934 Hillside Dr.</td>\n",
       "      <td>NaN</td>\n",
       "      <td>Pasadena</td>\n",
       "      <td>CA</td>\n",
       "      <td>90003</td>\n",
       "      <td>USA</td>\n",
       "      <td>NaN</td>\n",
       "      <td>Young</td>\n",
       "      <td>Julie</td>\n",
       "      <td>Medium</td>\n",
       "    </tr>\n",
       "    <tr>\n",
       "      <th>4</th>\n",
       "      <td>10159</td>\n",
       "      <td>49</td>\n",
       "      <td>100.00</td>\n",
       "      <td>14</td>\n",
       "      <td>5205.27</td>\n",
       "      <td>10/10/2003 0:00</td>\n",
       "      <td>Shipped</td>\n",
       "      <td>4</td>\n",
       "      <td>10</td>\n",
       "      <td>2003</td>\n",
       "      <td>...</td>\n",
       "      <td>7734 Strong St.</td>\n",
       "      <td>NaN</td>\n",
       "      <td>San Francisco</td>\n",
       "      <td>CA</td>\n",
       "      <td>NaN</td>\n",
       "      <td>USA</td>\n",
       "      <td>NaN</td>\n",
       "      <td>Brown</td>\n",
       "      <td>Julie</td>\n",
       "      <td>Medium</td>\n",
       "    </tr>\n",
       "  </tbody>\n",
       "</table>\n",
       "<p>5 rows × 25 columns</p>\n",
       "</div>"
      ],
      "text/plain": [
       "   ORDERNUMBER  QUANTITYORDERED  PRICEEACH  ORDERLINENUMBER    SALES  \\\n",
       "0        10107               30      95.70                2  2871.00   \n",
       "1        10121               34      81.35                5  2765.90   \n",
       "2        10134               41      94.74                2  3884.34   \n",
       "3        10145               45      83.26                6  3746.70   \n",
       "4        10159               49     100.00               14  5205.27   \n",
       "\n",
       "         ORDERDATE   STATUS  QTR_ID  MONTH_ID  YEAR_ID  ...  \\\n",
       "0   2/24/2003 0:00  Shipped       1         2     2003  ...   \n",
       "1    5/7/2003 0:00  Shipped       2         5     2003  ...   \n",
       "2    7/1/2003 0:00  Shipped       3         7     2003  ...   \n",
       "3   8/25/2003 0:00  Shipped       3         8     2003  ...   \n",
       "4  10/10/2003 0:00  Shipped       4        10     2003  ...   \n",
       "\n",
       "                    ADDRESSLINE1  ADDRESSLINE2           CITY STATE  \\\n",
       "0        897 Long Airport Avenue           NaN            NYC    NY   \n",
       "1             59 rue de l'Abbaye           NaN          Reims   NaN   \n",
       "2  27 rue du Colonel Pierre Avia           NaN          Paris   NaN   \n",
       "3             78934 Hillside Dr.           NaN       Pasadena    CA   \n",
       "4                7734 Strong St.           NaN  San Francisco    CA   \n",
       "\n",
       "  POSTALCODE COUNTRY TERRITORY CONTACTLASTNAME CONTACTFIRSTNAME DEALSIZE  \n",
       "0      10022     USA       NaN              Yu             Kwai    Small  \n",
       "1      51100  France      EMEA         Henriot             Paul    Small  \n",
       "2      75508  France      EMEA        Da Cunha           Daniel   Medium  \n",
       "3      90003     USA       NaN           Young            Julie   Medium  \n",
       "4        NaN     USA       NaN           Brown            Julie   Medium  \n",
       "\n",
       "[5 rows x 25 columns]"
      ]
     },
     "execution_count": 4,
     "metadata": {},
     "output_type": "execute_result"
    }
   ],
   "source": [
    "data.head()"
   ]
  },
  {
   "cell_type": "code",
   "execution_count": 5,
   "id": "14e96eed-eb82-4e77-9bdf-bbb4011fdd11",
   "metadata": {},
   "outputs": [
    {
     "data": {
      "text/plain": [
       "(2823, 25)"
      ]
     },
     "execution_count": 5,
     "metadata": {},
     "output_type": "execute_result"
    }
   ],
   "source": [
    "data.shape"
   ]
  },
  {
   "cell_type": "code",
   "execution_count": 6,
   "id": "e3256b75-a8a8-47a2-9c7e-d1b3a1926b3b",
   "metadata": {},
   "outputs": [
    {
     "data": {
      "text/html": [
       "<div>\n",
       "<style scoped>\n",
       "    .dataframe tbody tr th:only-of-type {\n",
       "        vertical-align: middle;\n",
       "    }\n",
       "\n",
       "    .dataframe tbody tr th {\n",
       "        vertical-align: top;\n",
       "    }\n",
       "\n",
       "    .dataframe thead th {\n",
       "        text-align: right;\n",
       "    }\n",
       "</style>\n",
       "<table border=\"1\" class=\"dataframe\">\n",
       "  <thead>\n",
       "    <tr style=\"text-align: right;\">\n",
       "      <th></th>\n",
       "      <th>ORDERNUMBER</th>\n",
       "      <th>QUANTITYORDERED</th>\n",
       "      <th>PRICEEACH</th>\n",
       "      <th>ORDERLINENUMBER</th>\n",
       "      <th>SALES</th>\n",
       "      <th>QTR_ID</th>\n",
       "      <th>MONTH_ID</th>\n",
       "      <th>YEAR_ID</th>\n",
       "      <th>MSRP</th>\n",
       "    </tr>\n",
       "  </thead>\n",
       "  <tbody>\n",
       "    <tr>\n",
       "      <th>count</th>\n",
       "      <td>2823.000000</td>\n",
       "      <td>2823.000000</td>\n",
       "      <td>2823.000000</td>\n",
       "      <td>2823.000000</td>\n",
       "      <td>2823.000000</td>\n",
       "      <td>2823.000000</td>\n",
       "      <td>2823.000000</td>\n",
       "      <td>2823.00000</td>\n",
       "      <td>2823.000000</td>\n",
       "    </tr>\n",
       "    <tr>\n",
       "      <th>mean</th>\n",
       "      <td>10258.725115</td>\n",
       "      <td>35.092809</td>\n",
       "      <td>83.658544</td>\n",
       "      <td>6.466171</td>\n",
       "      <td>3553.889072</td>\n",
       "      <td>2.717676</td>\n",
       "      <td>7.092455</td>\n",
       "      <td>2003.81509</td>\n",
       "      <td>100.715551</td>\n",
       "    </tr>\n",
       "    <tr>\n",
       "      <th>std</th>\n",
       "      <td>92.085478</td>\n",
       "      <td>9.741443</td>\n",
       "      <td>20.174277</td>\n",
       "      <td>4.225841</td>\n",
       "      <td>1841.865106</td>\n",
       "      <td>1.203878</td>\n",
       "      <td>3.656633</td>\n",
       "      <td>0.69967</td>\n",
       "      <td>40.187912</td>\n",
       "    </tr>\n",
       "    <tr>\n",
       "      <th>min</th>\n",
       "      <td>10100.000000</td>\n",
       "      <td>6.000000</td>\n",
       "      <td>26.880000</td>\n",
       "      <td>1.000000</td>\n",
       "      <td>482.130000</td>\n",
       "      <td>1.000000</td>\n",
       "      <td>1.000000</td>\n",
       "      <td>2003.00000</td>\n",
       "      <td>33.000000</td>\n",
       "    </tr>\n",
       "    <tr>\n",
       "      <th>25%</th>\n",
       "      <td>10180.000000</td>\n",
       "      <td>27.000000</td>\n",
       "      <td>68.860000</td>\n",
       "      <td>3.000000</td>\n",
       "      <td>2203.430000</td>\n",
       "      <td>2.000000</td>\n",
       "      <td>4.000000</td>\n",
       "      <td>2003.00000</td>\n",
       "      <td>68.000000</td>\n",
       "    </tr>\n",
       "    <tr>\n",
       "      <th>50%</th>\n",
       "      <td>10262.000000</td>\n",
       "      <td>35.000000</td>\n",
       "      <td>95.700000</td>\n",
       "      <td>6.000000</td>\n",
       "      <td>3184.800000</td>\n",
       "      <td>3.000000</td>\n",
       "      <td>8.000000</td>\n",
       "      <td>2004.00000</td>\n",
       "      <td>99.000000</td>\n",
       "    </tr>\n",
       "    <tr>\n",
       "      <th>75%</th>\n",
       "      <td>10333.500000</td>\n",
       "      <td>43.000000</td>\n",
       "      <td>100.000000</td>\n",
       "      <td>9.000000</td>\n",
       "      <td>4508.000000</td>\n",
       "      <td>4.000000</td>\n",
       "      <td>11.000000</td>\n",
       "      <td>2004.00000</td>\n",
       "      <td>124.000000</td>\n",
       "    </tr>\n",
       "    <tr>\n",
       "      <th>max</th>\n",
       "      <td>10425.000000</td>\n",
       "      <td>97.000000</td>\n",
       "      <td>100.000000</td>\n",
       "      <td>18.000000</td>\n",
       "      <td>14082.800000</td>\n",
       "      <td>4.000000</td>\n",
       "      <td>12.000000</td>\n",
       "      <td>2005.00000</td>\n",
       "      <td>214.000000</td>\n",
       "    </tr>\n",
       "  </tbody>\n",
       "</table>\n",
       "</div>"
      ],
      "text/plain": [
       "        ORDERNUMBER  QUANTITYORDERED    PRICEEACH  ORDERLINENUMBER  \\\n",
       "count   2823.000000      2823.000000  2823.000000      2823.000000   \n",
       "mean   10258.725115        35.092809    83.658544         6.466171   \n",
       "std       92.085478         9.741443    20.174277         4.225841   \n",
       "min    10100.000000         6.000000    26.880000         1.000000   \n",
       "25%    10180.000000        27.000000    68.860000         3.000000   \n",
       "50%    10262.000000        35.000000    95.700000         6.000000   \n",
       "75%    10333.500000        43.000000   100.000000         9.000000   \n",
       "max    10425.000000        97.000000   100.000000        18.000000   \n",
       "\n",
       "              SALES       QTR_ID     MONTH_ID     YEAR_ID         MSRP  \n",
       "count   2823.000000  2823.000000  2823.000000  2823.00000  2823.000000  \n",
       "mean    3553.889072     2.717676     7.092455  2003.81509   100.715551  \n",
       "std     1841.865106     1.203878     3.656633     0.69967    40.187912  \n",
       "min      482.130000     1.000000     1.000000  2003.00000    33.000000  \n",
       "25%     2203.430000     2.000000     4.000000  2003.00000    68.000000  \n",
       "50%     3184.800000     3.000000     8.000000  2004.00000    99.000000  \n",
       "75%     4508.000000     4.000000    11.000000  2004.00000   124.000000  \n",
       "max    14082.800000     4.000000    12.000000  2005.00000   214.000000  "
      ]
     },
     "execution_count": 6,
     "metadata": {},
     "output_type": "execute_result"
    }
   ],
   "source": [
    "data.describe()"
   ]
  },
  {
   "cell_type": "markdown",
   "id": "8cfc9dc0-0d56-4319-8d5c-84741c2eb4a9",
   "metadata": {},
   "source": [
    "### SALE AND REVENUES ANALYSIS"
   ]
  },
  {
   "cell_type": "markdown",
   "id": "327ab36a-b781-4b0a-838b-28ac378e48f5",
   "metadata": {},
   "source": [
    "##### 1.\tWhat is the total revenue generated from sales\n"
   ]
  },
  {
   "cell_type": "code",
   "execution_count": 237,
   "id": "c7ad6733-348b-428a-85b9-3438e8fde1fb",
   "metadata": {},
   "outputs": [
    {
     "data": {
      "text/plain": [
       "10032628.85"
      ]
     },
     "execution_count": 237,
     "metadata": {},
     "output_type": "execute_result"
    }
   ],
   "source": [
    "total_revenue=data['SALES'].sum()\n",
    "total_revenue"
   ]
  },
  {
   "cell_type": "markdown",
   "id": "cf41cfe1-bc96-4978-8d36-68b699c60ede",
   "metadata": {},
   "source": [
    "##### 2.\tWhat are the top 5 best-selling products based on total sales?"
   ]
  },
  {
   "cell_type": "code",
   "execution_count": 17,
   "id": "75c45be7-3c20-493b-a6b3-665282668c8d",
   "metadata": {},
   "outputs": [
    {
     "data": {
      "text/plain": [
       "PRODUCTCODE\n",
       "S18_3232    288245.42\n",
       "S10_1949    191073.03\n",
       "S10_4698    170401.07\n",
       "S12_1108    168585.32\n",
       "S18_2238    154623.95\n",
       "Name: SALES, dtype: float64"
      ]
     },
     "execution_count": 17,
     "metadata": {},
     "output_type": "execute_result"
    }
   ],
   "source": [
    "top_5_products = data.groupby(\"PRODUCTCODE\")[\"SALES\"].sum().nlargest(5)\n",
    "top_5_products"
   ]
  },
  {
   "cell_type": "code",
   "execution_count": 19,
   "id": "c5bdbc15-6a40-400d-b765-dd2df9fd15cf",
   "metadata": {},
   "outputs": [
    {
     "data": {
      "text/plain": [
       "0       S10_1678\n",
       "1       S10_1678\n",
       "2       S10_1678\n",
       "3       S10_1678\n",
       "4       S10_1678\n",
       "          ...   \n",
       "2818    S72_3212\n",
       "2819    S72_3212\n",
       "2820    S72_3212\n",
       "2821    S72_3212\n",
       "2822    S72_3212\n",
       "Name: PRODUCTCODE, Length: 2823, dtype: object"
      ]
     },
     "execution_count": 19,
     "metadata": {},
     "output_type": "execute_result"
    }
   ],
   "source": [
    "data['PRODUCTCODE']"
   ]
  },
  {
   "cell_type": "code",
   "execution_count": 20,
   "id": "55708ad9-e704-4c51-b822-ff577ba6665e",
   "metadata": {
    "scrolled": true
   },
   "outputs": [
    {
     "data": {
      "text/plain": [
       "Index(['ORDERNUMBER', 'QUANTITYORDERED', 'PRICEEACH', 'ORDERLINENUMBER',\n",
       "       'SALES', 'ORDERDATE', 'STATUS', 'QTR_ID', 'MONTH_ID', 'YEAR_ID',\n",
       "       'PRODUCTLINE', 'MSRP', 'PRODUCTCODE', 'CUSTOMERNAME', 'PHONE',\n",
       "       'ADDRESSLINE1', 'ADDRESSLINE2', 'CITY', 'STATE', 'POSTALCODE',\n",
       "       'COUNTRY', 'TERRITORY', 'CONTACTLASTNAME', 'CONTACTFIRSTNAME',\n",
       "       'DEALSIZE'],\n",
       "      dtype='object')"
      ]
     },
     "execution_count": 20,
     "metadata": {},
     "output_type": "execute_result"
    }
   ],
   "source": [
    "data.columns"
   ]
  },
  {
   "cell_type": "markdown",
   "id": "926e3cce-93d8-47f8-b2ad-7c45347a47d5",
   "metadata": {},
   "source": [
    "#### 3.\tWhat is the average order value (total sales / number of orders)?"
   ]
  },
  {
   "cell_type": "code",
   "execution_count": 243,
   "id": "a691a45d-d0ac-4aed-a3b1-df8edcbf1a8e",
   "metadata": {
    "scrolled": true
   },
   "outputs": [
    {
     "name": "stdout",
     "output_type": "stream",
     "text": [
      "307\n",
      "32679.57280130293\n"
     ]
    }
   ],
   "source": [
    "num_orders = data[\"ORDERNUMBER\"].nunique()\n",
    "print(number_of_orders)\n",
    "average_order_value = total_revenue / num_orders\n",
    "print(average_order_value)"
   ]
  },
  {
   "cell_type": "markdown",
   "id": "29ee3355-b89a-4450-879a-f915b417a2fb",
   "metadata": {},
   "source": [
    "#### 4.\tWhich month has the highest sales?"
   ]
  },
  {
   "cell_type": "code",
   "execution_count": 245,
   "id": "28b73308-99d2-4ff4-8a66-b0b6f7bdeed4",
   "metadata": {},
   "outputs": [
    {
     "data": {
      "text/plain": [
       "11"
      ]
     },
     "execution_count": 245,
     "metadata": {},
     "output_type": "execute_result"
    }
   ],
   "source": [
    "highest_sales_month=data.groupby('MONTH_ID')['SALES'].sum().idxmax()\n",
    "highest_sales_month\n"
   ]
  },
  {
   "cell_type": "markdown",
   "id": "3dc4e4e7-ac71-4b67-a7f0-ddee8b9183aa",
   "metadata": {},
   "source": [
    "#### 5.\tHow do quarterly sales trends vary over the years?"
   ]
  },
  {
   "cell_type": "code",
   "execution_count": 253,
   "id": "e8552fbd-3dcf-456f-a584-a400e8f60e49",
   "metadata": {},
   "outputs": [
    {
     "data": {
      "text/html": [
       "<div>\n",
       "<style scoped>\n",
       "    .dataframe tbody tr th:only-of-type {\n",
       "        vertical-align: middle;\n",
       "    }\n",
       "\n",
       "    .dataframe tbody tr th {\n",
       "        vertical-align: top;\n",
       "    }\n",
       "\n",
       "    .dataframe thead th {\n",
       "        text-align: right;\n",
       "    }\n",
       "</style>\n",
       "<table border=\"1\" class=\"dataframe\">\n",
       "  <thead>\n",
       "    <tr style=\"text-align: right;\">\n",
       "      <th>QTR_ID</th>\n",
       "      <th>1</th>\n",
       "      <th>2</th>\n",
       "      <th>3</th>\n",
       "      <th>4</th>\n",
       "    </tr>\n",
       "    <tr>\n",
       "      <th>YEAR_ID</th>\n",
       "      <th></th>\n",
       "      <th></th>\n",
       "      <th></th>\n",
       "      <th></th>\n",
       "    </tr>\n",
       "  </thead>\n",
       "  <tbody>\n",
       "    <tr>\n",
       "      <th>2003</th>\n",
       "      <td>445094.69</td>\n",
       "      <td>562365.22</td>\n",
       "      <td>649514.54</td>\n",
       "      <td>1860005.09</td>\n",
       "    </tr>\n",
       "    <tr>\n",
       "      <th>2004</th>\n",
       "      <td>833730.68</td>\n",
       "      <td>766260.73</td>\n",
       "      <td>1109396.27</td>\n",
       "      <td>2014774.92</td>\n",
       "    </tr>\n",
       "    <tr>\n",
       "      <th>2005</th>\n",
       "      <td>1071992.36</td>\n",
       "      <td>719494.35</td>\n",
       "      <td>NaN</td>\n",
       "      <td>NaN</td>\n",
       "    </tr>\n",
       "  </tbody>\n",
       "</table>\n",
       "</div>"
      ],
      "text/plain": [
       "QTR_ID            1          2           3           4\n",
       "YEAR_ID                                               \n",
       "2003      445094.69  562365.22   649514.54  1860005.09\n",
       "2004      833730.68  766260.73  1109396.27  2014774.92\n",
       "2005     1071992.36  719494.35         NaN         NaN"
      ]
     },
     "execution_count": 253,
     "metadata": {},
     "output_type": "execute_result"
    }
   ],
   "source": [
    "quarterly_sales = data.groupby([\"YEAR_ID\", \"QTR_ID\"])['SALES'].sum().unstack()\n",
    "quarterly_sales"
   ]
  },
  {
   "cell_type": "markdown",
   "id": "c319dd2f-959a-48e9-8cda-7fd9b145b9cd",
   "metadata": {},
   "source": [
    "### Customer & Market Insights"
   ]
  },
  {
   "cell_type": "markdown",
   "id": "29a9c755-cc7c-4ffb-9c45-d45ac24cb8d8",
   "metadata": {},
   "source": [
    "#### 6.\tWho are the top 5 customers based on revenue?"
   ]
  },
  {
   "cell_type": "code",
   "execution_count": 256,
   "id": "bda491f5-05f7-4ffc-bcb4-70af6b695de1",
   "metadata": {
    "scrolled": true
   },
   "outputs": [
    {
     "data": {
      "text/plain": [
       "CUSTOMERNAME\n",
       "Euro Shopping Channel           912294.11\n",
       "Mini Gifts Distributors Ltd.    654858.06\n",
       "Australian Collectors, Co.      200995.41\n",
       "Muscle Machine Inc              197736.94\n",
       "La Rochelle Gifts               180124.90\n",
       "Name: SALES, dtype: float64"
      ]
     },
     "execution_count": 256,
     "metadata": {},
     "output_type": "execute_result"
    }
   ],
   "source": [
    "top_5_customers=data.groupby('CUSTOMERNAME')['SALES'].sum().nlargest(5)\n",
    "top_5_customers"
   ]
  },
  {
   "cell_type": "markdown",
   "id": "81f675bb-c300-4b04-9de5-0c922359d734",
   "metadata": {},
   "source": [
    "#### 7.\tWhat is the distribution of orders by deal size (small, medium, large)?"
   ]
  },
  {
   "cell_type": "code",
   "execution_count": 38,
   "id": "2205c20c-042d-4144-ba76-6490c8cd18cf",
   "metadata": {
    "scrolled": true
   },
   "outputs": [
    {
     "data": {
      "text/plain": [
       "DEALSIZE\n",
       "Medium    1384\n",
       "Small     1282\n",
       "Large      157\n",
       "Name: count, dtype: int64"
      ]
     },
     "execution_count": 38,
     "metadata": {},
     "output_type": "execute_result"
    }
   ],
   "source": [
    "order_dealsize=data['DEALSIZE'].value_counts()\n",
    "order_dealsize"
   ]
  },
  {
   "cell_type": "markdown",
   "id": "c37e8354-dd1f-4f83-847a-73185db544e3",
   "metadata": {},
   "source": [
    "#### 8.\tWhich country generates the most revenue?"
   ]
  },
  {
   "cell_type": "code",
   "execution_count": 40,
   "id": "6ff2132a-2fa1-4193-b72b-870542688a39",
   "metadata": {},
   "outputs": [
    {
     "data": {
      "text/plain": [
       "'USA'"
      ]
     },
     "execution_count": 40,
     "metadata": {},
     "output_type": "execute_result"
    }
   ],
   "source": [
    "country_with_highestRevenue=data.groupby('COUNTRY')['SALES'].sum().idxmax()\n",
    "country_with_highestRevenue"
   ]
  },
  {
   "cell_type": "markdown",
   "id": "aa6904d6-0789-4438-8c0b-239e732c5631",
   "metadata": {},
   "source": [
    "#### 9.\tHow does sales performance vary by territory?"
   ]
  },
  {
   "cell_type": "code",
   "execution_count": 45,
   "id": "2f6fe50e-90ad-4563-909d-de79f12133e2",
   "metadata": {},
   "outputs": [
    {
     "data": {
      "text/plain": [
       "TERRITORY\n",
       "APAC      746121.83\n",
       "EMEA     4979272.41\n",
       "Japan     455173.22\n",
       "Name: SALES, dtype: float64"
      ]
     },
     "execution_count": 45,
     "metadata": {},
     "output_type": "execute_result"
    }
   ],
   "source": [
    "sales_acrossTerritory=data.groupby('TERRITORY')['SALES'].sum()\n",
    "sales_acrossTerritory"
   ]
  },
  {
   "cell_type": "code",
   "execution_count": 47,
   "id": "98598ac4-ab48-4a90-8061-e5a83f4e2db9",
   "metadata": {},
   "outputs": [
    {
     "data": {
      "text/plain": [
       "TERRITORY\n",
       "APAC      746121.83\n",
       "EMEA     4979272.41\n",
       "Japan     455173.22\n",
       "Name: SALES, dtype: float64"
      ]
     },
     "execution_count": 47,
     "metadata": {},
     "output_type": "execute_result"
    }
   ],
   "source": [
    "sales_by_territory = data.groupby(\"TERRITORY\")[\"SALES\"].sum().dropna()\n",
    "sales_by_territory\n"
   ]
  },
  {
   "cell_type": "markdown",
   "id": "4e599946-0ede-4d35-9733-1d409471918e",
   "metadata": {},
   "source": [
    "#### 10.What is the most common order quantity?"
   ]
  },
  {
   "cell_type": "code",
   "execution_count": 90,
   "id": "08f78eb1-44f9-4635-b82c-d5dd30acdf74",
   "metadata": {},
   "outputs": [
    {
     "data": {
      "text/plain": [
       "0    34\n",
       "Name: QUANTITYORDERED, dtype: int64"
      ]
     },
     "execution_count": 90,
     "metadata": {},
     "output_type": "execute_result"
    }
   ],
   "source": [
    "mostcommon_orderquantity=data['QUANTITYORDERED'].mode()\n",
    "mostcommon_orderquantity"
   ]
  },
  {
   "cell_type": "code",
   "execution_count": 92,
   "id": "3704fe55-f10b-404b-a990-921e5818936d",
   "metadata": {},
   "outputs": [
    {
     "data": {
      "text/plain": [
       "34"
      ]
     },
     "execution_count": 92,
     "metadata": {},
     "output_type": "execute_result"
    }
   ],
   "source": [
    "mostcommon_orderquantity=data['QUANTITYORDERED'].mode()[0]\n",
    "mostcommon_orderquantity"
   ]
  },
  {
   "cell_type": "markdown",
   "id": "c2aa424e-0a43-4540-a360-41d6652e0fd2",
   "metadata": {},
   "source": [
    "### PRODUCT PERFORMANCE"
   ]
  },
  {
   "cell_type": "markdown",
   "id": "c2b728eb-6e2c-451a-88fc-8c65777dacb9",
   "metadata": {},
   "source": [
    "#### 11. What is the profit margin per product (assuming MSRP - PRICEEACH)?"
   ]
  },
  {
   "cell_type": "code",
   "execution_count": 102,
   "id": "76828527-6a1b-448e-ba04-ebfdec806291",
   "metadata": {},
   "outputs": [
    {
     "data": {
      "text/plain": [
       "0       -0.70\n",
       "1       13.65\n",
       "2        0.26\n",
       "3       11.74\n",
       "4       -5.00\n",
       "        ...  \n",
       "2818   -46.00\n",
       "2819   -46.00\n",
       "2820   -46.00\n",
       "2821    -8.24\n",
       "2822   -11.52\n",
       "Length: 2823, dtype: float64"
      ]
     },
     "execution_count": 102,
     "metadata": {},
     "output_type": "execute_result"
    }
   ],
   "source": [
    "PROFIT_MARGIN = data[\"MSRP\"] - data[\"PRICEEACH\"]\n",
    "PROFIT_MARGIN"
   ]
  },
  {
   "cell_type": "markdown",
   "id": "5d964ab1-0a0e-4ffe-913b-152a4331867d",
   "metadata": {},
   "source": [
    "#### 12. Which product line contributes the most to total sales?"
   ]
  },
  {
   "cell_type": "code",
   "execution_count": 267,
   "id": "b623ab0a-8eb0-471d-a1e5-cdbacea62f8f",
   "metadata": {},
   "outputs": [
    {
     "data": {
      "text/plain": [
       "'Classic Cars'"
      ]
     },
     "execution_count": 267,
     "metadata": {},
     "output_type": "execute_result"
    }
   ],
   "source": [
    "top_productline=data.groupby('PRODUCTLINE')['SALES'].sum().idxmax()\n",
    "top_productline"
   ]
  },
  {
   "cell_type": "markdown",
   "id": "3ca2862d-7a72-4c0f-ba61-9e3c79305ef8",
   "metadata": {},
   "source": [
    "#### 13. How does pricing affect order quantities?"
   ]
  },
  {
   "cell_type": "code",
   "execution_count": 113,
   "id": "eb59b450-b175-497c-9aff-cebd61c334cd",
   "metadata": {},
   "outputs": [
    {
     "data": {
      "text/plain": [
       "0.005564033259239912"
      ]
     },
     "execution_count": 113,
     "metadata": {},
     "output_type": "execute_result"
    }
   ],
   "source": [
    "pricing_quantity_correlation = data[\"PRICEEACH\"].corr(data[\"QUANTITYORDERED\"])\n",
    "pricing_quantity_correlation"
   ]
  },
  {
   "cell_type": "markdown",
   "id": "f756a8e7-79f1-42bb-bf88-12644afac681",
   "metadata": {},
   "source": [
    "#### 14. What is the relationship between MSRP and sales performance?"
   ]
  },
  {
   "cell_type": "code",
   "execution_count": 115,
   "id": "f192c505-ab41-4c82-9484-9ae21f8c5865",
   "metadata": {},
   "outputs": [
    {
     "data": {
      "text/plain": [
       "0.6352394340572505"
      ]
     },
     "execution_count": 115,
     "metadata": {},
     "output_type": "execute_result"
    }
   ],
   "source": [
    "corr_MSRP_Sales=data['MSRP'].corr(data['SALES'])\n",
    "corr_MSRP_Sales"
   ]
  },
  {
   "cell_type": "markdown",
   "id": "5f99409b-9277-4c9f-aece-da72224f56f8",
   "metadata": {},
   "source": [
    "#### 15. How many unique products are sold in the dataset?"
   ]
  },
  {
   "cell_type": "code",
   "execution_count": 292,
   "id": "cab41103-f589-43ef-a9f0-d21c7330c649",
   "metadata": {},
   "outputs": [
    {
     "data": {
      "text/plain": [
       "109"
      ]
     },
     "execution_count": 292,
     "metadata": {},
     "output_type": "execute_result"
    }
   ],
   "source": [
    "unique_products_count = data[\"PRODUCTCODE\"].nunique()\n",
    "unique_products_count"
   ]
  },
  {
   "cell_type": "markdown",
   "id": "231da784-a684-4ba8-baf7-62489722735a",
   "metadata": {},
   "source": [
    "#### 16.\tWhat is the average delivery time based on order status and order date?"
   ]
  },
  {
   "cell_type": "code",
   "execution_count": 1,
   "id": "75e26df6-d447-4db8-9c95-06c57d97b1d3",
   "metadata": {},
   "outputs": [
    {
     "ename": "SyntaxError",
     "evalue": "unmatched ')' (1939337876.py, line 1)",
     "output_type": "error",
     "traceback": [
      "\u001b[1;36m  Cell \u001b[1;32mIn[1], line 1\u001b[1;36m\u001b[0m\n\u001b[1;33m    average_delivery_time = data.groupby(\"STATUS\")[\"ORDERDATE\"]).mean()\u001b[0m\n\u001b[1;37m                                                               ^\u001b[0m\n\u001b[1;31mSyntaxError\u001b[0m\u001b[1;31m:\u001b[0m unmatched ')'\n"
     ]
    }
   ],
   "source": [
    "average_delivery_time = data.groupby(\"STATUS\")[\"ORDERDATE\"]).mean()\n",
    "average_delivery_time"
   ]
  },
  {
   "cell_type": "markdown",
   "id": "6a0d30f8-008d-430f-b6a8-033cafc2e8ef",
   "metadata": {},
   "source": [
    "#### 17.\tWhat percentage of orders are pending, shipped, or canceled?"
   ]
  },
  {
   "cell_type": "code",
   "execution_count": 269,
   "id": "8a3965be-efb8-42b4-8faa-d319b88d3ebd",
   "metadata": {},
   "outputs": [
    {
     "data": {
      "text/plain": [
       "STATUS\n",
       "Shipped       92.702798\n",
       "Cancelled      2.125399\n",
       "Resolved       1.664896\n",
       "On Hold        1.558626\n",
       "In Process     1.452356\n",
       "Disputed       0.495926\n",
       "Name: proportion, dtype: float64"
      ]
     },
     "execution_count": 269,
     "metadata": {},
     "output_type": "execute_result"
    }
   ],
   "source": [
    "order_status_distribution=data['STATUS'].value_counts(normalize=True)*100\n",
    "order_status_distribution\n"
   ]
  },
  {
   "cell_type": "markdown",
   "id": "ea6a7df0-b5de-4486-8273-3ecc7f01f2a6",
   "metadata": {},
   "source": [
    "#### 18.\tWhat is the average number of orders per customer?"
   ]
  },
  {
   "cell_type": "code",
   "execution_count": 205,
   "id": "7a85c16f-28fc-46cc-8fc1-73b04aa373db",
   "metadata": {},
   "outputs": [
    {
     "data": {
      "text/plain": [
       "3.3369565217391304"
      ]
     },
     "execution_count": 205,
     "metadata": {},
     "output_type": "execute_result"
    }
   ],
   "source": [
    "average_orders_per_customer = data[\"ORDERNUMBER\"].nunique() / data[\"CUSTOMERNAME\"].nunique()\n",
    "average_orders_per_customer"
   ]
  },
  {
   "cell_type": "markdown",
   "id": "4cb2440e-ccff-4ede-9ce4-4252352e7453",
   "metadata": {},
   "source": [
    "#### 19.\tHow many orders are placed per month?"
   ]
  },
  {
   "cell_type": "code",
   "execution_count": 273,
   "id": "84adbb95-125b-45b0-bee4-96fbf0950716",
   "metadata": {},
   "outputs": [
    {
     "data": {
      "text/plain": [
       "MONTH_ID\n",
       "1     25\n",
       "2     25\n",
       "3     25\n",
       "4     26\n",
       "5     28\n",
       "6     16\n",
       "7     16\n",
       "8     17\n",
       "9     20\n",
       "10    30\n",
       "11    61\n",
       "12    18\n",
       "Name: ORDERNUMBER, dtype: int64"
      ]
     },
     "execution_count": 273,
     "metadata": {},
     "output_type": "execute_result"
    }
   ],
   "source": [
    "orders_per_month = data.groupby(\"MONTH_ID\")[\"ORDERNUMBER\"].nunique()\n",
    "orders_per_month"
   ]
  },
  {
   "cell_type": "code",
   "execution_count": 217,
   "id": "08caf61a-5db0-40e5-80f9-9f7af1b2344d",
   "metadata": {},
   "outputs": [
    {
     "data": {
      "text/plain": [
       "0       30\n",
       "1       34\n",
       "2       41\n",
       "3       45\n",
       "4       49\n",
       "        ..\n",
       "2818    20\n",
       "2819    29\n",
       "2820    43\n",
       "2821    34\n",
       "2822    47\n",
       "Name: QUANTITYORDERED, Length: 2823, dtype: int64"
      ]
     },
     "execution_count": 217,
     "metadata": {},
     "output_type": "execute_result"
    }
   ],
   "source": [
    "data['QUANTITYORDERED']"
   ]
  },
  {
   "cell_type": "markdown",
   "id": "d18b52f9-d2ed-4d4a-bf67-ad41cac6b1f6",
   "metadata": {},
   "source": [
    "#### 20. Are there seasonal trends in sales performance?"
   ]
  },
  {
   "cell_type": "code",
   "execution_count": 225,
   "id": "89165bd2-53bd-4711-a186-e47733bbe173",
   "metadata": {},
   "outputs": [
    {
     "data": {
      "text/plain": [
       "QTR_ID\n",
       "1    3535.064256\n",
       "2    3650.838324\n",
       "3    3496.840577\n",
       "4    3541.846444\n",
       "Name: SALES, dtype: float64"
      ]
     },
     "execution_count": 225,
     "metadata": {},
     "output_type": "execute_result"
    }
   ],
   "source": [
    "seasonal_trends = data.groupby(\"QTR_ID\")[\"SALES\"].mean()\n",
    "seasonal_trends\n"
   ]
  }
 ],
 "metadata": {
  "kernelspec": {
   "display_name": "Python [conda env:base] *",
   "language": "python",
   "name": "conda-base-py"
  },
  "language_info": {
   "codemirror_mode": {
    "name": "ipython",
    "version": 3
   },
   "file_extension": ".py",
   "mimetype": "text/x-python",
   "name": "python",
   "nbconvert_exporter": "python",
   "pygments_lexer": "ipython3",
   "version": "3.12.7"
  }
 },
 "nbformat": 4,
 "nbformat_minor": 5
}
